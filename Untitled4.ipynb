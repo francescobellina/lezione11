{
 "cells": [
  {
   "cell_type": "code",
   "execution_count": null,
   "metadata": {},
   "outputs": [],
   "source": [
    "epsilons = generate_TCL_ms (0., epsilon_sigma, 10) \n",
    "#generate_TCL_ms (mean, sigma, N, N_sum = 10, seed = 0.) \n",
    "\n",
    "x_coord = np.arange (0, 10, 1) #genero 10 numeri interi tra 0 e 10\n",
    "y_coord = np.zeros (10) #vettore con 10 zeri da riempire\n",
    "for i in range (x_coord.size) :\n",
    "    y_coord[i] = func (x_coord[i], m_true, q_true) + epsilons[i] #func è la funzione generica\n",
    "    #a cui aggiungo del \"rumore statistico\" dato a epsilons, che è casuale dato generate_TCL_ms\n",
    "\n",
    "#PLOTTO CON MATPLOTLIB:\n",
    "    \n",
    "sigma_y = epsilon_sigma * np.ones (len (y_coord))\n",
    "fig, ax = plt.subplots ()\n",
    "ax.set_title ('linear model', size=14)\n",
    "ax.set_xlabel ('x')\n",
    "ax.set_ylabel ('y')\n",
    "ax.errorbar (x_coord, y_coord, xerr = 0.0, yerr = sigma_y, linestyle = 'None', marker = 'o') \n",
    "#funzione errorba: disegna le barre di errore\n",
    "\n",
    "\n",
    "\n",
    "#ORA DETERMINIAMO I NOSTRI PARAMETRI:\n",
    "#per tale metodo c'è la LIBRERIA IMINUIT: è una vecchia libreria di ROOT, adattata a py\n",
    "\n",
    "from iminuit import Minuit\n",
    "from iminuit.cost import LeastSquares #FUNZIONE LEASTSQUARES da importare\n",
    "\n",
    "# generate a least-squares cost function\n",
    "least_squares = LeastSquares (x_coord, y_coord, sigma_y, func) #x, y , incertezze su y e funzione func\n",
    "my_minuit = Minuit (least_squares, m = 0, q = 0)  # OGGETTO MINUIT: starting values for m and q\n",
    "my_minuit.migrad ()  # finds minimum of least_squares function\n",
    "my_minuit.hesse ()   # accurately computes uncertainties"
   ]
  },
  {
   "cell_type": "code",
   "execution_count": null,
   "metadata": {},
   "outputs": [],
   "source": [
    "#verifica del successo del metodo:\n",
    "\n",
    "#Whether the minimization has been successful can be inquired:\n",
    "  # global characteristics of the fit\n",
    "is_valid = my_minuit.valid\n",
    "print ('success of the fit: ', is_valid)\n",
    "\n",
    "\n",
    "#The value of and the number of degrees of freedom may be obtained as well:\n",
    "Q_squared = my_minuit.fval\n",
    "print ('value of the fit Q-squared', Q_squared)\n",
    "N_dof = my_minuit.ndof\n",
    "print ('value of the number of degrees of freedom', N_dof) #CALCOLO AUTOMATICO DEI NGL\n",
    "\n",
    "\n"
   ]
  },
  {
   "cell_type": "code",
   "execution_count": null,
   "metadata": {},
   "outputs": [],
   "source": [
    "#qualità del metodo:\n",
    "print ('Value of Q2: ', my_minuit.fval)\n",
    "print ('Number of degrees of freedom: ', my_minuit.ndof)\n",
    "\n",
    "from scipy.stats import chi2\n",
    "# ...\n",
    "print ('associated p-value: ', 1. - chi2.cdf (my_minuit.fval, df = my_minuit.ndof))\n",
    "\n",
    "#HO PROBLEMI QUANDO HO Un p value troppo scarso (vicino a zero) o troppo perfetto (1)\n",
    "#se è nel mezzo ho un buon valore    ?\n",
    "\n"
   ]
  },
  {
   "cell_type": "code",
   "execution_count": null,
   "metadata": {},
   "outputs": [],
   "source": [
    "#PARAMETRI, VALORE E INCERTEZZA:\n",
    "for par, val, err in zip (my_minuit.parameters, my_minuit.values, my_minuit.errors) :\n",
    "    print(f'{par} = {val:.3f} +/- {err:.3f}') # formatted output\n",
    "    \n",
    "m_fit = my_minuit.values[0]\n",
    "q_fit = my_minuit.values[1]  \n",
    "\n",
    "\n",
    "\n",
    "#MATRICE DI COVARIANZA:\n",
    "print (my_minuit.covariance)\n",
    "\n",
    "print (my_minuit.covariance[0][1])\n",
    "print (my_minuit.covariance['m']['q'])    \n",
    "\n",
    "print (my_minuit.covariance.correlation ()) #matrice di correlazione\n",
    "\n",
    "\n",
    "#STAMPA il tutto:\n",
    "display (my_minuit) #stampa tutte le info dell'oggetto my_minuit\n"
   ]
  },
  {
   "cell_type": "code",
   "execution_count": null,
   "metadata": {},
   "outputs": [],
   "source": [
    "#Nel caso in cui le variabili casuali ϵi abbiano distribuzione di densità \n",
    "#di probabilità Gaussiana, \n",
    "#il valore del Q2 associato al fit è distribuito secondo una distribuzione del χ2\n",
    "#con un numero di gradi di libertà pari al numero di gradi di libertà del fit\n",
    "\n",
    "#il numero di gradi di libertà del fit è uguale al numero di punti \n",
    "#meno il numero di parametri stimati\n",
    "\n",
    "#Questa proprietà del metodo dei minimi quadrati permette, \n",
    "#assumendo che le variabili casuali ϵi\n",
    "#siano gaussiane, di stimare le incertezze sui valori yi"
   ]
  }
 ],
 "metadata": {
  "kernelspec": {
   "display_name": "Python 3 (ipykernel)",
   "language": "python",
   "name": "python3"
  },
  "language_info": {
   "codemirror_mode": {
    "name": "ipython",
    "version": 3
   },
   "file_extension": ".py",
   "mimetype": "text/x-python",
   "name": "python",
   "nbconvert_exporter": "python",
   "pygments_lexer": "ipython3",
   "version": "3.8.10"
  }
 },
 "nbformat": 4,
 "nbformat_minor": 4
}
